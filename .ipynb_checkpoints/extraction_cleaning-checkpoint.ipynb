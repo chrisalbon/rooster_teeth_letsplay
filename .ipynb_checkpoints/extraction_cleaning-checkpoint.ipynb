{
 "cells": [
  {
   "cell_type": "code",
   "execution_count": 1,
   "metadata": {
    "collapsed": true
   },
   "outputs": [],
   "source": [
    "import pandas as pd\n",
    "import requests\n",
    "from bs4 import BeautifulSoup\n",
    "import re\n",
    "import numpy as np\n",
    "from urllib.request import urlopen"
   ]
  },
  {
   "cell_type": "code",
   "execution_count": 2,
   "metadata": {
    "collapsed": false
   },
   "outputs": [],
   "source": [
    "html_doc = open(\"raw_data/raw_data.html\")\n",
    "soup =  BeautifulSoup(html_doc, 'html.parser')"
   ]
  },
  {
   "cell_type": "code",
   "execution_count": 3,
   "metadata": {
    "collapsed": false
   },
   "outputs": [],
   "source": [
    "video_titles = soup.find_all('h3',{'class':'yt-lockup-title'})"
   ]
  },
  {
   "cell_type": "code",
   "execution_count": 4,
   "metadata": {
    "collapsed": false
   },
   "outputs": [],
   "source": [
    "title = []\n",
    "url = []\n",
    "length = []\n",
    "\n",
    "for video in video_titles:\n",
    "    title.append(video.a.text)\n",
    "    length.append(video.span.text.split(':')[1])\n",
    "    url.append('https://www.youtube.com' + video.a.get('href'))"
   ]
  },
  {
   "cell_type": "code",
   "execution_count": 5,
   "metadata": {
    "collapsed": false
   },
   "outputs": [],
   "source": [
    "show = []\n",
    "\n",
    "for row in title:\n",
    "    if \"-\" in row:\n",
    "        show.append(row.split(\"-\")[0].lstrip(\" \"))\n",
    "    elif \":\" in row:\n",
    "        show.append(row.split(\":\")[0].lstrip(\" \"))\n",
    "    elif \"~\" in row:\n",
    "        show.append(row.split(\"~\")[0].lstrip(\" \"))\n",
    "    else:\n",
    "        if 'Let\\'s Play' in row:\n",
    "            show.append('Let\\'s Play')\n",
    "        elif 'Game Time' in row:\n",
    "            show.append('Game Time')\n",
    "        else:\n",
    "            show.append(row)"
   ]
  },
  {
   "cell_type": "code",
   "execution_count": 6,
   "metadata": {
    "collapsed": false
   },
   "outputs": [],
   "source": [
    "duration = []\n",
    "\n",
    "for row in length:\n",
    "    if 'hour' in row:\n",
    "        row_hour = int(re.findall(r'(\\d|\\d\\d) (?=hour)', row)[0]) * 60\n",
    "    else:\n",
    "        row_hour = 0\n",
    "    if 'minute' in row:\n",
    "        row_minutes = int(re.findall(r'(\\d|\\d\\d) (?=minute)', row)[0])\n",
    "    else:\n",
    "        row_minutes = 0\n",
    "    if 'second' in row:\n",
    "        row_seconds = int(re.findall(r'(\\d|\\d\\d) (?=second)', row)[0]) / 60\n",
    "        row_seconds = round(row_seconds, 1)\n",
    "    else:\n",
    "        row_seconds = 0\n",
    "    duration.append(row_hour + row_minutes + row_seconds)"
   ]
  },
  {
   "cell_type": "code",
   "execution_count": 7,
   "metadata": {
    "collapsed": false,
    "scrolled": true
   },
   "outputs": [],
   "source": [
    "comments  = []\n",
    "views = []\n",
    "date = []\n",
    "likes = []\n",
    "dislikes = []\n",
    "game = []\n",
    "description = []\n",
    "\n",
    "for video in url:\n",
    "    html = urlopen(video)\n",
    "    content = str(html.read())\n",
    "    views.append(str(re.findall(r'\"view_count\\\":\\\"[0-9]{1,99}', content)).lstrip(\"\\'[\\'\\\"view_count\\\":\\\"\").rstrip('\\']'))\n",
    "    date.append(re.findall(r'<meta itemprop=\"datePublished\" content=\"([^\"]*)\"', content))\n",
    "    likes.append(int(str(re.findall(r'like this video along with ([^\"]*)', content)[0]).rstrip(' other people').replace(',', '')))\n",
    "    dislikes.append(int(str(re.findall(r'dislike this video along with ([^\"]*)', content)[0]).rstrip(' other people').replace(',', '')))\n",
    "    description.append(re.findall(r'<meta name=\"description\" content=\"([^\"]*)\"', content)[0])"
   ]
  },
  {
   "cell_type": "code",
   "execution_count": 8,
   "metadata": {
    "collapsed": false
   },
   "outputs": [],
   "source": [
    "df = pd.DataFrame()\n",
    "df['Title'] = title\n",
    "df['URL'] = url\n",
    "df['Duration'] = duration\n",
    "df['Date'] = date\n",
    "df['Views'] = views\n",
    "df['Likes'] = likes\n",
    "df['Dislikes'] = dislikes\n",
    "df['Show'] = show\n",
    "df['Description'] = description"
   ]
  },
  {
   "cell_type": "code",
   "execution_count": 24,
   "metadata": {
    "collapsed": false
   },
   "outputs": [],
   "source": [
    "df.to_csv(\"scrap.csv\", index=False)"
   ]
  },
  {
   "cell_type": "code",
   "execution_count": 66,
   "metadata": {
    "collapsed": false
   },
   "outputs": [],
   "source": [
    "df = pd.read_csv(\"scrap.csv\")"
   ]
  },
  {
   "cell_type": "code",
   "execution_count": 67,
   "metadata": {
    "collapsed": false,
    "scrolled": true
   },
   "outputs": [],
   "source": [
    "pub_date = []\n",
    "\n",
    "for row in df['Date']:\n",
    "    clean_date = row.lstrip(\"[\\'\").rstrip(\"\\']\")\n",
    "    pub_date.append(clean_date)\n",
    "\n",
    "df['Date'] = pub_date\n",
    "df['Date'] = pd.to_datetime(df['Date'], format='%Y-%m-%d')"
   ]
  },
  {
   "cell_type": "code",
   "execution_count": 68,
   "metadata": {
    "collapsed": false
   },
   "outputs": [],
   "source": [
    "day = []\n",
    "\n",
    "for row in df['Date']:\n",
    "    day_number = row.weekday()\n",
    "    if day_number == 6:\n",
    "        day.append('Sunday')\n",
    "    elif day_number == 0:\n",
    "        day.append('Monday')\n",
    "    elif day_number == 1:\n",
    "        day.append('Tuesday')\n",
    "    elif day_number == 2:\n",
    "        day.append('Wednesday')\n",
    "    elif day_number == 3:\n",
    "        day.append('Thursday')\n",
    "    elif day_number == 4:\n",
    "        day.append('Friday')\n",
    "    elif day_number == 5:\n",
    "        day.append('Saturday')\n",
    "        \n",
    "df['Day Of The Week'] = day"
   ]
  },
  {
   "cell_type": "code",
   "execution_count": 69,
   "metadata": {
    "collapsed": false
   },
   "outputs": [],
   "source": [
    "today =  pd.to_datetime('2015-07-16', format='%Y-%m-%d')\n",
    "days_since_published = []\n",
    "\n",
    "for row in df['Date']:\n",
    "    delta = today - row\n",
    "    days_since_published.append(delta.days)\n",
    "    \n",
    "df['Days Since Published'] = days_since_published"
   ]
  },
  {
   "cell_type": "code",
   "execution_count": 70,
   "metadata": {
    "collapsed": false
   },
   "outputs": [],
   "source": [
    "df['Views Per Day'] = df['Views'] / df['Days Since Published']\n",
    "df['Likes Per Day'] = df['Likes'] / df['Days Since Published']\n",
    "df['Dislikes Per Day'] = df['Dislikes'] / df['Days Since Published']"
   ]
  },
  {
   "cell_type": "code",
   "execution_count": 71,
   "metadata": {
    "collapsed": false
   },
   "outputs": [],
   "source": [
    "views_per_day = []\n",
    "\n",
    "for row in df['Views Per Day']:\n",
    "    if row == np.inf:\n",
    "        views_per_day.append(np.nan)\n",
    "    else:\n",
    "        views_per_day.append(round(row))\n",
    "        \n",
    "df['Views Per Day'] = views_per_day\n",
    "        \n",
    "likes_per_day = []\n",
    "\n",
    "for row in df['Likes Per Day']:\n",
    "    if row == np.inf:\n",
    "        likes_per_day.append(np.nan)\n",
    "    else:\n",
    "        likes_per_day.append(round(row))\n",
    "        \n",
    "df['Likes Per Day'] = likes_per_day\n",
    "        \n",
    "dislikes_per_day = []\n",
    "\n",
    "for row in df['Dislikes Per Day']:\n",
    "    if row == np.inf:\n",
    "        dislikes_per_day.append(np.nan)\n",
    "    else:\n",
    "        dislikes_per_day.append(round(row))\n",
    "        \n",
    "df['Dislikes Per Day'] = dislikes_per_day"
   ]
  },
  {
   "cell_type": "code",
   "execution_count": 72,
   "metadata": {
    "collapsed": true
   },
   "outputs": [],
   "source": [
    "df['Likes Minus Dislikes'] = df['Likes'] - df['Dislikes']"
   ]
  },
  {
   "cell_type": "code",
   "execution_count": 73,
   "metadata": {
    "collapsed": false
   },
   "outputs": [],
   "source": [
    "geoff = []\n",
    "jack = []\n",
    "gavin = []\n",
    "ryan = [] \n",
    "ray = [] \n",
    "michael = [] \n",
    "lindsay = [] \n",
    "caleb = [] \n",
    "kdin = [] \n",
    "matt = [] \n",
    "jeremy = [] \n",
    "trevor = [] \n",
    "franco = []\n",
    "brandon = []\n",
    "barbara = [] \n",
    "funhaus = [] \n",
    "burnie = []\n",
    "trevor = []\n",
    "kerry = []\n",
    "dan = []\n",
    "andrew_panton = []\n",
    "max_kruemcke = []\n",
    "\n",
    "for row in df['Description']:\n",
    "    row_lowercase = row.lower()\n",
    "    if 'geoff' in row_lowercase:\n",
    "        geoff.append(True)\n",
    "    else:\n",
    "        geoff.append(False)\n",
    "        \n",
    "    if 'jack' in row_lowercase:\n",
    "        jack.append(True)\n",
    "    else:\n",
    "        jack.append(False)\n",
    "    \n",
    "    if 'gavin' in row_lowercase:\n",
    "        gavin.append(True)\n",
    "    else:\n",
    "        gavin.append(False)\n",
    "    \n",
    "    if 'ryan' in row_lowercase: \n",
    "        ryan.append(True)\n",
    "    else:\n",
    "        ryan.append(False)\n",
    "    \n",
    "    if 'ray' in row_lowercase: \n",
    "        ray.append(True)\n",
    "    else:\n",
    "        ray.append(False)\n",
    "    \n",
    "    if 'michael' in row_lowercase:\n",
    "        michael.append(True)\n",
    "    else:\n",
    "        michael.append(False)\n",
    "    \n",
    "    if 'lindsay' in row_lowercase:\n",
    "        lindsay.append(True)\n",
    "    else:\n",
    "        lindsay.append(False)\n",
    "    \n",
    "    if 'caleb' in row_lowercase: \n",
    "        caleb.append(True)\n",
    "    else:\n",
    "        caleb.append(False)\n",
    "    \n",
    "    if 'kdin' in row_lowercase: \n",
    "        kdin.append(True)\n",
    "    else:\n",
    "        kdin.append(False)\n",
    "    \n",
    "    if 'matt' in row_lowercase: \n",
    "        matt.append(True)\n",
    "    else:\n",
    "        matt.append(False)\n",
    "    \n",
    "    if 'jeremy' in row_lowercase: \n",
    "        jeremy.append(True)\n",
    "    else:\n",
    "        jeremy.append(False)\n",
    "    \n",
    "    if 'franco' in row_lowercase:\n",
    "        franco.append(True)\n",
    "    else:\n",
    "        franco.append(False)\n",
    "    \n",
    "    if 'brandon' in row_lowercase:\n",
    "        brandon.append(True)\n",
    "    else:\n",
    "        brandon.append(False)\n",
    "    \n",
    "    if 'barbara' in row_lowercase: \n",
    "        barbara.append(True)\n",
    "    else:\n",
    "        barbara.append(False)\n",
    "    \n",
    "    if 'funhaus' in row_lowercase: \n",
    "        funhaus.append(True)\n",
    "    else:\n",
    "        funhaus.append(False)\n",
    "        \n",
    "    if 'burnie' in row_lowercase:\n",
    "        burnie.append(True)\n",
    "    else:\n",
    "        burnie.append(False)\n",
    "    \n",
    "    if 'kerry' in row_lowercase:\n",
    "        kerry.append(True)\n",
    "    else:\n",
    "        kerry.append(False)\n",
    "    \n",
    "    if 'dan' in row_lowercase:\n",
    "        dan.append(True)\n",
    "    else:\n",
    "        dan.append(False)\n",
    "        \n",
    "    if 'andrew panton' in row_lowercase:\n",
    "        andrew_panton.append(True)\n",
    "    else:\n",
    "        andrew_panton.append(False)\n",
    "    \n",
    "    if 'max kruemcke' in row_lowercase:\n",
    "        max_kruemcke.append(True)\n",
    "    else:\n",
    "        max_kruemcke.append(False)\n",
    "        \n",
    "    if 'trevor' in row_lowercase:\n",
    "        trevor.append(True)\n",
    "    else:\n",
    "        trevor.append(False)\n",
    "\n",
    "df['Geoff'] = geoff\n",
    "df['Jack'] = jack\n",
    "df['Gavin'] = gavin\n",
    "df['Ryan'] = ryan\n",
    "df['Ray'] = ray\n",
    "df['Michael'] = michael\n",
    "df['Lindsay'] = lindsay\n",
    "df['Caleb'] = caleb\n",
    "df['Kdin'] = kdin\n",
    "df['Matt'] = matt\n",
    "df['Jeremy'] = jeremy\n",
    "# df['Trevor'] = trevor\n",
    "# df['Franco'] = franco\n",
    "df['Barbara'] = barbara\n",
    "# df['Funhaus'] = funhaus\n",
    "df['Brandon'] = brandon\n",
    "df['Burnie'] = burnie\n",
    "# df['Max Kruemcke'] = max_kruemcke\n",
    "# df['Andrew Panton'] = andrew_panton\n",
    "df['Kerry'] = kerry\n",
    "df['Dan'] = dan"
   ]
  },
  {
   "cell_type": "code",
   "execution_count": 74,
   "metadata": {
    "collapsed": false
   },
   "outputs": [],
   "source": [
    "show_clean = []\n",
    "\n",
    "for row in df['Show']:\n",
    "    if \"let\\'s play\" in row.lower():\n",
    "        show_clean.append(\"Let\\'s Play\")\n",
    "    elif \"gameplay\" in row.lower():\n",
    "        show_clean.append(\"Let\\'s Play\") \n",
    "    elif \"lets play\" in row.lower():\n",
    "        show_clean.append(\"Let\\'s Play\")  \n",
    "    elif \"let\\'s build\" in row.lower():\n",
    "        show_clean.append(\"Let\\'s Build\")\n",
    "    elif \"lets build\" in row.lower():\n",
    "        show_clean.append(\"Let\\'s Fail\")\n",
    "    elif \"let\\'s fail\" in row.lower():\n",
    "        show_clean.append(\"Let\\'s Fail\")\n",
    "    elif \"lets fail\" in row.lower():\n",
    "        show_clean.append(\"Let\\'s Build\")\n",
    "    elif \"vs\" in row.lower():\n",
    "        show_clean.append(\"VS\")\n",
    "    elif \"full play\" in row.lower():\n",
    "        show_clean.append(\"Full Play\")\n",
    "    elif \"achievement hunter presents\" in row.lower():\n",
    "        show_clean.append(\"Achievement Hunter Presents\")\n",
    "    elif \"rooster teeth inter\" in row.lower():\n",
    "        show_clean.append(\"Rooster Teeth Inter-Office Tournament\")\n",
    "    elif \"game time\" in row.lower():\n",
    "        show_clean.append(\"Game Time\")\n",
    "    elif \"let's watch\" in row.lower():\n",
    "        show_clean.append(\"Let's Watch\")\n",
    "    elif \"let's test\" in row.lower():\n",
    "        show_clean.append(\"Let's Test\")\n",
    "    elif \"go!\" in row.lower():\n",
    "        show_clean.append(\"Go!\")\n",
    "    elif \"sunday driving\" in row.lower():\n",
    "        show_clean.append(\"Sunday Driving\")\n",
    "    else:\n",
    "        show_clean.append('Unknown')\n",
    "\n",
    "df['Show'] = show_clean"
   ]
  },
  {
   "cell_type": "code",
   "execution_count": 75,
   "metadata": {
    "collapsed": true
   },
   "outputs": [],
   "source": [
    "df.to_csv(\"roosterteeth_letsplay_v3.csv\", index=False)"
   ]
  }
 ],
 "metadata": {
  "kernelspec": {
   "display_name": "Python 3",
   "language": "python",
   "name": "python3"
  },
  "language_info": {
   "codemirror_mode": {
    "name": "ipython",
    "version": 3
   },
   "file_extension": ".py",
   "mimetype": "text/x-python",
   "name": "python",
   "nbconvert_exporter": "python",
   "pygments_lexer": "ipython3",
   "version": "3.4.3"
  }
 },
 "nbformat": 4,
 "nbformat_minor": 0
}
